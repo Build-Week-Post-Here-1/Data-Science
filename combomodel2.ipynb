{
 "cells": [
  {
   "cell_type": "code",
   "execution_count": 119,
   "metadata": {},
   "outputs": [],
   "source": [
    "import pandas as pd\n",
    "import sqlite3\n",
    "import numpy as np\n",
    "\n",
    "import spacy\n",
    "from spacy.tokenizer import Tokenizer\n",
    "from sklearn.feature_extraction.stop_words import ENGLISH_STOP_WORDS\n",
    "from sklearn.feature_extraction.text import TfidfVectorizer\n",
    "\n",
    "from tensorflow import keras"
   ]
  },
  {
   "cell_type": "raw",
   "metadata": {},
   "source": [
    "import sys\n",
    "!{sys.executable} -m pip install tensorflow-hub"
   ]
  },
  {
   "cell_type": "markdown",
   "metadata": {},
   "source": [
    "## Get & Process Data"
   ]
  },
  {
   "cell_type": "code",
   "execution_count": 120,
   "metadata": {},
   "outputs": [
    {
     "data": {
      "text/plain": [
       "(50000, 4)"
      ]
     },
     "execution_count": 120,
     "metadata": {},
     "output_type": "execute_result"
    }
   ],
   "source": [
    "conn = sqlite3.connect(\"db.sqlite3\")\n",
    "df = pd.read_sql_query(\"select * from submissions;\", conn)\n",
    "df.shape"
   ]
  },
  {
   "cell_type": "code",
   "execution_count": 121,
   "metadata": {},
   "outputs": [
    {
     "data": {
      "text/html": [
       "<div>\n",
       "<style scoped>\n",
       "    .dataframe tbody tr th:only-of-type {\n",
       "        vertical-align: middle;\n",
       "    }\n",
       "\n",
       "    .dataframe tbody tr th {\n",
       "        vertical-align: top;\n",
       "    }\n",
       "\n",
       "    .dataframe thead th {\n",
       "        text-align: right;\n",
       "    }\n",
       "</style>\n",
       "<table border=\"1\" class=\"dataframe\">\n",
       "  <thead>\n",
       "    <tr style=\"text-align: right;\">\n",
       "      <th></th>\n",
       "      <th>subreddit</th>\n",
       "      <th>subreddit_subs</th>\n",
       "      <th>title</th>\n",
       "      <th>text</th>\n",
       "    </tr>\n",
       "  </thead>\n",
       "  <tbody>\n",
       "    <tr>\n",
       "      <th>0</th>\n",
       "      <td>Home</td>\n",
       "      <td>10106</td>\n",
       "      <td>Beautiful Home :)</td>\n",
       "      <td></td>\n",
       "    </tr>\n",
       "    <tr>\n",
       "      <th>1</th>\n",
       "      <td>Home</td>\n",
       "      <td>10106</td>\n",
       "      <td>This was finished yesterday..</td>\n",
       "      <td></td>\n",
       "    </tr>\n",
       "    <tr>\n",
       "      <th>2</th>\n",
       "      <td>Home</td>\n",
       "      <td>10106</td>\n",
       "      <td>My roommate is kicking me out because having a...</td>\n",
       "      <td>So, I am not asking for advice, really...mores...</td>\n",
       "    </tr>\n",
       "    <tr>\n",
       "      <th>3</th>\n",
       "      <td>Home</td>\n",
       "      <td>10106</td>\n",
       "      <td>This was this kitchen I grew up with in London...</td>\n",
       "      <td></td>\n",
       "    </tr>\n",
       "    <tr>\n",
       "      <th>4</th>\n",
       "      <td>Home</td>\n",
       "      <td>10106</td>\n",
       "      <td>Anyone know this style of home?</td>\n",
       "      <td></td>\n",
       "    </tr>\n",
       "    <tr>\n",
       "      <th>5</th>\n",
       "      <td>Home</td>\n",
       "      <td>10106</td>\n",
       "      <td>My view from home after a long day</td>\n",
       "      <td></td>\n",
       "    </tr>\n",
       "    <tr>\n",
       "      <th>6</th>\n",
       "      <td>Home</td>\n",
       "      <td>10106</td>\n",
       "      <td>That is how we make our home even cozier place 🥰😎</td>\n",
       "      <td></td>\n",
       "    </tr>\n",
       "    <tr>\n",
       "      <th>7</th>\n",
       "      <td>Home</td>\n",
       "      <td>10106</td>\n",
       "      <td>Should I continue the backslash around the cor...</td>\n",
       "      <td></td>\n",
       "    </tr>\n",
       "    <tr>\n",
       "      <th>8</th>\n",
       "      <td>Home</td>\n",
       "      <td>10106</td>\n",
       "      <td>My first attempt at wall design. Purposely wen...</td>\n",
       "      <td></td>\n",
       "    </tr>\n",
       "    <tr>\n",
       "      <th>9</th>\n",
       "      <td>Home</td>\n",
       "      <td>10106</td>\n",
       "      <td>Best way to hide wires?</td>\n",
       "      <td></td>\n",
       "    </tr>\n",
       "    <tr>\n",
       "      <th>10</th>\n",
       "      <td>Home</td>\n",
       "      <td>10106</td>\n",
       "      <td>Lmao.....probably</td>\n",
       "      <td></td>\n",
       "    </tr>\n",
       "    <tr>\n",
       "      <th>11</th>\n",
       "      <td>Home</td>\n",
       "      <td>10106</td>\n",
       "      <td>Putting my decorating skills to the test, I gi...</td>\n",
       "      <td></td>\n",
       "    </tr>\n",
       "    <tr>\n",
       "      <th>12</th>\n",
       "      <td>Home</td>\n",
       "      <td>10106</td>\n",
       "      <td>My New Goal: Be the Change I Want to See on Na...</td>\n",
       "      <td>I've noticed that Redditors can be shockingly ...</td>\n",
       "    </tr>\n",
       "    <tr>\n",
       "      <th>13</th>\n",
       "      <td>Home</td>\n",
       "      <td>10106</td>\n",
       "      <td>How is the view of the house</td>\n",
       "      <td></td>\n",
       "    </tr>\n",
       "    <tr>\n",
       "      <th>14</th>\n",
       "      <td>Home</td>\n",
       "      <td>10106</td>\n",
       "      <td>Couldn't be at home without this now. Absolute...</td>\n",
       "      <td></td>\n",
       "    </tr>\n",
       "    <tr>\n",
       "      <th>15</th>\n",
       "      <td>Home</td>\n",
       "      <td>10106</td>\n",
       "      <td>Home Decoration - Lining Room Design</td>\n",
       "      <td></td>\n",
       "    </tr>\n",
       "    <tr>\n",
       "      <th>16</th>\n",
       "      <td>Home</td>\n",
       "      <td>10106</td>\n",
       "      <td>Home and sea</td>\n",
       "      <td></td>\n",
       "    </tr>\n",
       "    <tr>\n",
       "      <th>17</th>\n",
       "      <td>Home</td>\n",
       "      <td>10106</td>\n",
       "      <td>My forever home</td>\n",
       "      <td></td>\n",
       "    </tr>\n",
       "    <tr>\n",
       "      <th>18</th>\n",
       "      <td>Home</td>\n",
       "      <td>10106</td>\n",
       "      <td>Please rank best to worst. Thanks!</td>\n",
       "      <td></td>\n",
       "    </tr>\n",
       "    <tr>\n",
       "      <th>19</th>\n",
       "      <td>Home</td>\n",
       "      <td>10106</td>\n",
       "      <td>All ready for Christmas!</td>\n",
       "      <td></td>\n",
       "    </tr>\n",
       "  </tbody>\n",
       "</table>\n",
       "</div>"
      ],
      "text/plain": [
       "   subreddit  subreddit_subs  \\\n",
       "0       Home           10106   \n",
       "1       Home           10106   \n",
       "2       Home           10106   \n",
       "3       Home           10106   \n",
       "4       Home           10106   \n",
       "5       Home           10106   \n",
       "6       Home           10106   \n",
       "7       Home           10106   \n",
       "8       Home           10106   \n",
       "9       Home           10106   \n",
       "10      Home           10106   \n",
       "11      Home           10106   \n",
       "12      Home           10106   \n",
       "13      Home           10106   \n",
       "14      Home           10106   \n",
       "15      Home           10106   \n",
       "16      Home           10106   \n",
       "17      Home           10106   \n",
       "18      Home           10106   \n",
       "19      Home           10106   \n",
       "\n",
       "                                                title  \\\n",
       "0                                   Beautiful Home :)   \n",
       "1                       This was finished yesterday..   \n",
       "2   My roommate is kicking me out because having a...   \n",
       "3   This was this kitchen I grew up with in London...   \n",
       "4                     Anyone know this style of home?   \n",
       "5                  My view from home after a long day   \n",
       "6   That is how we make our home even cozier place 🥰😎   \n",
       "7   Should I continue the backslash around the cor...   \n",
       "8   My first attempt at wall design. Purposely wen...   \n",
       "9                             Best way to hide wires?   \n",
       "10                                  Lmao.....probably   \n",
       "11  Putting my decorating skills to the test, I gi...   \n",
       "12  My New Goal: Be the Change I Want to See on Na...   \n",
       "13                       How is the view of the house   \n",
       "14  Couldn't be at home without this now. Absolute...   \n",
       "15               Home Decoration - Lining Room Design   \n",
       "16                                       Home and sea   \n",
       "17                                    My forever home   \n",
       "18                 Please rank best to worst. Thanks!   \n",
       "19                           All ready for Christmas!   \n",
       "\n",
       "                                                 text  \n",
       "0                                                      \n",
       "1                                                      \n",
       "2   So, I am not asking for advice, really...mores...  \n",
       "3                                                      \n",
       "4                                                      \n",
       "5                                                      \n",
       "6                                                      \n",
       "7                                                      \n",
       "8                                                      \n",
       "9                                                      \n",
       "10                                                     \n",
       "11                                                     \n",
       "12  I've noticed that Redditors can be shockingly ...  \n",
       "13                                                     \n",
       "14                                                     \n",
       "15                                                     \n",
       "16                                                     \n",
       "17                                                     \n",
       "18                                                     \n",
       "19                                                     "
      ]
     },
     "execution_count": 121,
     "metadata": {},
     "output_type": "execute_result"
    }
   ],
   "source": [
    "#df = pd.·%&·$%&·$%&read_sql_query('db.sqlite3')\n",
    "df.head(20)"
   ]
  },
  {
   "cell_type": "code",
   "execution_count": 122,
   "metadata": {},
   "outputs": [
    {
     "data": {
      "text/html": [
       "<div>\n",
       "<style scoped>\n",
       "    .dataframe tbody tr th:only-of-type {\n",
       "        vertical-align: middle;\n",
       "    }\n",
       "\n",
       "    .dataframe tbody tr th {\n",
       "        vertical-align: top;\n",
       "    }\n",
       "\n",
       "    .dataframe thead th {\n",
       "        text-align: right;\n",
       "    }\n",
       "</style>\n",
       "<table border=\"1\" class=\"dataframe\">\n",
       "  <thead>\n",
       "    <tr style=\"text-align: right;\">\n",
       "      <th></th>\n",
       "      <th>subreddit</th>\n",
       "      <th>subreddit_subs</th>\n",
       "      <th>title</th>\n",
       "      <th>text</th>\n",
       "      <th>clean_text</th>\n",
       "      <th>clean_title</th>\n",
       "      <th>combo</th>\n",
       "    </tr>\n",
       "  </thead>\n",
       "  <tbody>\n",
       "    <tr>\n",
       "      <th>0</th>\n",
       "      <td>Home</td>\n",
       "      <td>10106</td>\n",
       "      <td>Beautiful Home :)</td>\n",
       "      <td></td>\n",
       "      <td></td>\n",
       "      <td>Beautiful Home</td>\n",
       "      <td>Beautiful Home</td>\n",
       "    </tr>\n",
       "    <tr>\n",
       "      <th>1</th>\n",
       "      <td>Home</td>\n",
       "      <td>10106</td>\n",
       "      <td>This was finished yesterday..</td>\n",
       "      <td></td>\n",
       "      <td></td>\n",
       "      <td>This was finished yesterday</td>\n",
       "      <td>This was finished yesterday</td>\n",
       "    </tr>\n",
       "    <tr>\n",
       "      <th>2</th>\n",
       "      <td>Home</td>\n",
       "      <td>10106</td>\n",
       "      <td>My roommate is kicking me out because having a...</td>\n",
       "      <td>So, I am not asking for advice, really...mores...</td>\n",
       "      <td>So  I am not asking for advice  really   mores...</td>\n",
       "      <td>My roommate is kicking me out because having a...</td>\n",
       "      <td>So  I am not asking for advice  really   mores...</td>\n",
       "    </tr>\n",
       "    <tr>\n",
       "      <th>3</th>\n",
       "      <td>Home</td>\n",
       "      <td>10106</td>\n",
       "      <td>This was this kitchen I grew up with in London...</td>\n",
       "      <td></td>\n",
       "      <td></td>\n",
       "      <td>This was this kitchen I grew up with in London...</td>\n",
       "      <td>This was this kitchen I grew up with in London...</td>\n",
       "    </tr>\n",
       "    <tr>\n",
       "      <th>4</th>\n",
       "      <td>Home</td>\n",
       "      <td>10106</td>\n",
       "      <td>Anyone know this style of home?</td>\n",
       "      <td></td>\n",
       "      <td></td>\n",
       "      <td>Anyone know this style of home</td>\n",
       "      <td>Anyone know this style of home</td>\n",
       "    </tr>\n",
       "  </tbody>\n",
       "</table>\n",
       "</div>"
      ],
      "text/plain": [
       "  subreddit  subreddit_subs  \\\n",
       "0      Home           10106   \n",
       "1      Home           10106   \n",
       "2      Home           10106   \n",
       "3      Home           10106   \n",
       "4      Home           10106   \n",
       "\n",
       "                                               title  \\\n",
       "0                                  Beautiful Home :)   \n",
       "1                      This was finished yesterday..   \n",
       "2  My roommate is kicking me out because having a...   \n",
       "3  This was this kitchen I grew up with in London...   \n",
       "4                    Anyone know this style of home?   \n",
       "\n",
       "                                                text  \\\n",
       "0                                                      \n",
       "1                                                      \n",
       "2  So, I am not asking for advice, really...mores...   \n",
       "3                                                      \n",
       "4                                                      \n",
       "\n",
       "                                          clean_text  \\\n",
       "0                                                      \n",
       "1                                                      \n",
       "2  So  I am not asking for advice  really   mores...   \n",
       "3                                                      \n",
       "4                                                      \n",
       "\n",
       "                                         clean_title  \\\n",
       "0                                  Beautiful Home      \n",
       "1                      This was finished yesterday     \n",
       "2  My roommate is kicking me out because having a...   \n",
       "3  This was this kitchen I grew up with in London...   \n",
       "4                    Anyone know this style of home    \n",
       "\n",
       "                                               combo  \n",
       "0                                  Beautiful Home     \n",
       "1                      This was finished yesterday    \n",
       "2  So  I am not asking for advice  really   mores...  \n",
       "3  This was this kitchen I grew up with in London...  \n",
       "4                    Anyone know this style of home   "
      ]
     },
     "execution_count": 122,
     "metadata": {},
     "output_type": "execute_result"
    }
   ],
   "source": [
    "df['clean_text'] = df['text'].str.replace('[^\\w\\s]',' ')\n",
    "df['clean_title'] = df['title'].str.replace('[^\\w\\s]',' ')\n",
    "df['combo'] = df['clean_text'] + df['clean_title']\n",
    "df.head()"
   ]
  },
  {
   "cell_type": "markdown",
   "metadata": {},
   "source": [
    "## Preprocessing"
   ]
  },
  {
   "cell_type": "raw",
   "metadata": {},
   "source": [
    "df[['subreddit', 'combo']].head(1)"
   ]
  },
  {
   "cell_type": "code",
   "execution_count": 123,
   "metadata": {},
   "outputs": [],
   "source": [
    "nlp = spacy.load(\"en_core_web_md\")\n",
    "\n",
    "tokenizer = Tokenizer(nlp.vocab)\n",
    "tokens = []\n",
    "\n",
    "\"\"\" Make them tokens \"\"\"\n",
    "\n",
    "#stop words\n",
    "STOP_WORDS = nlp.Defaults.stop_words.union(['', ' ', '-', 'reddit', 'post'])\n",
    "    \n",
    "tokens = []\n",
    "\n",
    "for doc in tokenizer.pipe(df['combo'], batch_size=500):\n",
    "    \n",
    "    doc_tokens = []\n",
    "    \n",
    "    for token in doc: \n",
    "        if ((token.text.lower() not in STOP_WORDS) and \n",
    "            (token.is_stop == False) and \n",
    "            (token.is_punct == False) and \n",
    "            (token.pos_ != 'PRON')):\n",
    "                 doc_tokens.append(token.lemma_.lower())\n",
    "    tokens.append(' '.join(doc_tokens))\n",
    "    \n",
    "df['tokens'] = tokens"
   ]
  },
  {
   "cell_type": "code",
   "execution_count": 124,
   "metadata": {},
   "outputs": [],
   "source": [
    "tfidf_vectorizer = TfidfVectorizer(min_df=0.02, max_df=.98,\n",
    "                                   ngram_range=(1,2))"
   ]
  },
  {
   "cell_type": "code",
   "execution_count": 125,
   "metadata": {},
   "outputs": [
    {
     "name": "stdout",
     "output_type": "stream",
     "text": [
      "(50000, 215)\n",
      "(50000, 100)\n"
     ]
    }
   ],
   "source": [
    "X = tfidf_vectorizer.fit_transform(df['tokens'])\n",
    "y = pd.get_dummies(df['subreddit']).values #target\n",
    "\n",
    "print(X.shape)\n",
    "print(y.shape)"
   ]
  },
  {
   "cell_type": "markdown",
   "metadata": {},
   "source": [
    "## TF Model"
   ]
  },
  {
   "cell_type": "code",
   "execution_count": 150,
   "metadata": {},
   "outputs": [],
   "source": [
    "model = keras.Sequential()\n",
    "model.add(keras.layers.Dense(64, input_dim=X.shape[1], activation='relu'))\n",
    "model.add(keras.layers.Dropout(0.2))\n",
    "model.add(keras.layers.Dense(16, activation='relu'))\n",
    "model.add(keras.layers.Dense(y.shape[1], activation='softmax'))\n",
    "\n",
    "model.compile(loss='categorical_crossentropy', optimizer='adam', metrics=['accuracy'])"
   ]
  },
  {
   "cell_type": "code",
   "execution_count": 151,
   "metadata": {},
   "outputs": [],
   "source": [
    "from sklearn.model_selection import train_test_split\n",
    "\n",
    "X_train,X_test,y_train,y_test = train_test_split(X,y,test_size = 0.2)"
   ]
  },
  {
   "cell_type": "code",
   "execution_count": 152,
   "metadata": {},
   "outputs": [
    {
     "name": "stdout",
     "output_type": "stream",
     "text": [
      "Epoch 1/10\n",
      "40000/40000 [==============================] - 2s 60us/sample - loss: 4.3572 - acc: 0.0345\n",
      "Epoch 2/10\n",
      "40000/40000 [==============================] - 2s 54us/sample - loss: 4.0373 - acc: 0.0834\n",
      "Epoch 3/10\n",
      "40000/40000 [==============================] - 2s 55us/sample - loss: 3.9464 - acc: 0.1010\n",
      "Epoch 4/10\n",
      "40000/40000 [==============================] - 2s 55us/sample - loss: 3.8887 - acc: 0.1128\n",
      "Epoch 5/10\n",
      "40000/40000 [==============================] - 2s 54us/sample - loss: 3.8472 - acc: 0.1178\n",
      "Epoch 6/10\n",
      "40000/40000 [==============================] - 2s 57us/sample - loss: 3.8189 - acc: 0.1245\n",
      "Epoch 7/10\n",
      "40000/40000 [==============================] - 2s 54us/sample - loss: 3.7950 - acc: 0.1283\n",
      "Epoch 8/10\n",
      "40000/40000 [==============================] - 2s 58us/sample - loss: 3.7786 - acc: 0.1323\n",
      "Epoch 9/10\n",
      "40000/40000 [==============================] - 2s 59us/sample - loss: 3.7614 - acc: 0.1337\n",
      "Epoch 10/10\n",
      "40000/40000 [==============================] - 2s 55us/sample - loss: 3.7512 - acc: 0.1338\n"
     ]
    }
   ],
   "source": [
    "history = model.fit(X_train, y_train, epochs=10, batch_size=64)"
   ]
  },
  {
   "cell_type": "raw",
   "metadata": {},
   "source": [
    "## Test"
   ]
  },
  {
   "cell_type": "code",
   "execution_count": 137,
   "metadata": {},
   "outputs": [
    {
     "data": {
      "text/plain": [
       "0.02844"
      ]
     },
     "execution_count": 137,
     "metadata": {},
     "output_type": "execute_result"
    }
   ],
   "source": [
    "(np.sum(np.argmax(model.predict(X_test), axis=1) == np.argmax(y_test, axis=1)))/ X.shape[0]"
   ]
  },
  {
   "cell_type": "code",
   "execution_count": 131,
   "metadata": {},
   "outputs": [
    {
     "data": {
      "text/plain": [
       "array([80])"
      ]
     },
     "execution_count": 131,
     "metadata": {},
     "output_type": "execute_result"
    }
   ],
   "source": [
    "model.predict_classes(X_test[:1])"
   ]
  },
  {
   "cell_type": "code",
   "execution_count": 153,
   "metadata": {},
   "outputs": [],
   "source": [
    "df.to_pickle(\"./dummy.pkl\")"
   ]
  },
  {
   "cell_type": "code",
   "execution_count": null,
   "metadata": {},
   "outputs": [],
   "source": []
  }
 ],
 "metadata": {
  "kernelspec": {
   "display_name": "Python (myenv)",
   "language": "python",
   "name": "myenv"
  },
  "language_info": {
   "codemirror_mode": {
    "name": "ipython",
    "version": 3
   },
   "file_extension": ".py",
   "mimetype": "text/x-python",
   "name": "python",
   "nbconvert_exporter": "python",
   "pygments_lexer": "ipython3",
   "version": "3.7.3"
  }
 },
 "nbformat": 4,
 "nbformat_minor": 4
}
