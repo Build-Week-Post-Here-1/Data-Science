{
 "cells": [
  {
   "cell_type": "code",
   "execution_count": 25,
   "metadata": {},
   "outputs": [
    {
     "name": "stdout",
     "output_type": "stream",
     "text": [
      "Requirement already satisfied: spacy in /Users/michelle/opt/anaconda3/lib/python3.7/site-packages (2.2.3)\n",
      "Requirement already satisfied: srsly<1.1.0,>=0.1.0 in /Users/michelle/opt/anaconda3/lib/python3.7/site-packages (from spacy) (1.0.1)\n",
      "Requirement already satisfied: setuptools in /Users/michelle/opt/anaconda3/lib/python3.7/site-packages (from spacy) (41.4.0)\n",
      "Requirement already satisfied: wasabi<1.1.0,>=0.4.0 in /Users/michelle/opt/anaconda3/lib/python3.7/site-packages (from spacy) (0.6.0)\n",
      "Requirement already satisfied: cymem<2.1.0,>=2.0.2 in /Users/michelle/opt/anaconda3/lib/python3.7/site-packages (from spacy) (2.0.3)\n",
      "Requirement already satisfied: blis<0.5.0,>=0.4.0 in /Users/michelle/opt/anaconda3/lib/python3.7/site-packages (from spacy) (0.4.1)\n",
      "Requirement already satisfied: catalogue<1.1.0,>=0.0.7 in /Users/michelle/opt/anaconda3/lib/python3.7/site-packages (from spacy) (1.0.0)\n",
      "Requirement already satisfied: requests<3.0.0,>=2.13.0 in /Users/michelle/opt/anaconda3/lib/python3.7/site-packages (from spacy) (2.22.0)\n",
      "Requirement already satisfied: numpy>=1.15.0 in /Users/michelle/.local/lib/python3.7/site-packages (from spacy) (1.18.1)\n",
      "Requirement already satisfied: preshed<3.1.0,>=3.0.2 in /Users/michelle/opt/anaconda3/lib/python3.7/site-packages (from spacy) (3.0.2)\n",
      "Requirement already satisfied: thinc<7.4.0,>=7.3.0 in /Users/michelle/opt/anaconda3/lib/python3.7/site-packages (from spacy) (7.3.1)\n",
      "Requirement already satisfied: murmurhash<1.1.0,>=0.28.0 in /Users/michelle/opt/anaconda3/lib/python3.7/site-packages (from spacy) (1.0.2)\n",
      "Requirement already satisfied: plac<1.2.0,>=0.9.6 in /Users/michelle/opt/anaconda3/lib/python3.7/site-packages (from spacy) (1.1.3)\n",
      "Requirement already satisfied: importlib-metadata>=0.20; python_version < \"3.8\" in /Users/michelle/opt/anaconda3/lib/python3.7/site-packages (from catalogue<1.1.0,>=0.0.7->spacy) (0.23)\n",
      "Requirement already satisfied: urllib3!=1.25.0,!=1.25.1,<1.26,>=1.21.1 in /Users/michelle/opt/anaconda3/lib/python3.7/site-packages (from requests<3.0.0,>=2.13.0->spacy) (1.24.2)\n",
      "Requirement already satisfied: certifi>=2017.4.17 in /Users/michelle/opt/anaconda3/lib/python3.7/site-packages (from requests<3.0.0,>=2.13.0->spacy) (2019.9.11)\n",
      "Requirement already satisfied: idna<2.9,>=2.5 in /Users/michelle/opt/anaconda3/lib/python3.7/site-packages (from requests<3.0.0,>=2.13.0->spacy) (2.8)\n",
      "Requirement already satisfied: chardet<3.1.0,>=3.0.2 in /Users/michelle/opt/anaconda3/lib/python3.7/site-packages (from requests<3.0.0,>=2.13.0->spacy) (3.0.4)\n",
      "Requirement already satisfied: tqdm<5.0.0,>=4.10.0 in /Users/michelle/opt/anaconda3/lib/python3.7/site-packages (from thinc<7.4.0,>=7.3.0->spacy) (4.36.1)\n",
      "Requirement already satisfied: zipp>=0.5 in /Users/michelle/opt/anaconda3/lib/python3.7/site-packages (from importlib-metadata>=0.20; python_version < \"3.8\"->catalogue<1.1.0,>=0.0.7->spacy) (0.6.0)\n",
      "Requirement already satisfied: more-itertools in /Users/michelle/opt/anaconda3/lib/python3.7/site-packages (from zipp>=0.5->importlib-metadata>=0.20; python_version < \"3.8\"->catalogue<1.1.0,>=0.0.7->spacy) (7.2.0)\n"
     ]
    }
   ],
   "source": [
    "import os\n",
    "import pickle\n",
    "\n",
    "import numpy as np\n",
    "import spacy\n",
    "!pip install spacy\n",
    "from spacy.tokenizer import Tokenizer\n",
    "from spacy.lang.en.stop_words import STOP_WORDS\n",
    "from sklearn.feature_extraction.text import TfidfVectorizer\n",
    "from sklearn.neighbors import NearestNeighbors"
   ]
  },
  {
   "cell_type": "code",
   "execution_count": 26,
   "metadata": {},
   "outputs": [],
   "source": [
    "import pandas as pd\n",
    "import sqlite3\n",
    "conn = sqlite3.connect(\"api/db.sqlite3\")\n",
    "df = pd.read_sql_query(\"select * from submissions limit 5000;\", conn)\n"
   ]
  },
  {
   "cell_type": "code",
   "execution_count": 27,
   "metadata": {},
   "outputs": [
    {
     "data": {
      "text/plain": [
       "(5000, 4)"
      ]
     },
     "execution_count": 27,
     "metadata": {},
     "output_type": "execute_result"
    }
   ],
   "source": [
    "df.shape"
   ]
  },
  {
   "cell_type": "code",
   "execution_count": 28,
   "metadata": {},
   "outputs": [
    {
     "data": {
      "text/html": [
       "<div>\n",
       "<style scoped>\n",
       "    .dataframe tbody tr th:only-of-type {\n",
       "        vertical-align: middle;\n",
       "    }\n",
       "\n",
       "    .dataframe tbody tr th {\n",
       "        vertical-align: top;\n",
       "    }\n",
       "\n",
       "    .dataframe thead th {\n",
       "        text-align: right;\n",
       "    }\n",
       "</style>\n",
       "<table border=\"1\" class=\"dataframe\">\n",
       "  <thead>\n",
       "    <tr style=\"text-align: right;\">\n",
       "      <th></th>\n",
       "      <th>subreddit</th>\n",
       "      <th>subreddit_subs</th>\n",
       "      <th>title</th>\n",
       "      <th>text</th>\n",
       "    </tr>\n",
       "  </thead>\n",
       "  <tbody>\n",
       "    <tr>\n",
       "      <th>0</th>\n",
       "      <td>Home</td>\n",
       "      <td>10102</td>\n",
       "      <td>Beautiful Home :)</td>\n",
       "      <td></td>\n",
       "    </tr>\n",
       "    <tr>\n",
       "      <th>1</th>\n",
       "      <td>Home</td>\n",
       "      <td>10102</td>\n",
       "      <td>This was finished yesterday..</td>\n",
       "      <td></td>\n",
       "    </tr>\n",
       "    <tr>\n",
       "      <th>2</th>\n",
       "      <td>Home</td>\n",
       "      <td>10102</td>\n",
       "      <td>My roommate is kicking me out because having a...</td>\n",
       "      <td>So, I am not asking for advice, really...mores...</td>\n",
       "    </tr>\n",
       "    <tr>\n",
       "      <th>3</th>\n",
       "      <td>Home</td>\n",
       "      <td>10102</td>\n",
       "      <td>This was this kitchen I grew up with in London...</td>\n",
       "      <td></td>\n",
       "    </tr>\n",
       "    <tr>\n",
       "      <th>4</th>\n",
       "      <td>Home</td>\n",
       "      <td>10102</td>\n",
       "      <td>Anyone know this style of home?</td>\n",
       "      <td></td>\n",
       "    </tr>\n",
       "    <tr>\n",
       "      <th>5</th>\n",
       "      <td>Home</td>\n",
       "      <td>10102</td>\n",
       "      <td>My view from home after a long day</td>\n",
       "      <td></td>\n",
       "    </tr>\n",
       "    <tr>\n",
       "      <th>6</th>\n",
       "      <td>AskReddit</td>\n",
       "      <td>26268612</td>\n",
       "      <td>People who haven't pooped in 2019 yet, why are...</td>\n",
       "      <td></td>\n",
       "    </tr>\n",
       "    <tr>\n",
       "      <th>7</th>\n",
       "      <td>AskReddit</td>\n",
       "      <td>26268612</td>\n",
       "      <td>Stan Lee has passed away at 95 years old</td>\n",
       "      <td>As many of you know today is day that many of ...</td>\n",
       "    </tr>\n",
       "    <tr>\n",
       "      <th>8</th>\n",
       "      <td>AskReddit</td>\n",
       "      <td>26268612</td>\n",
       "      <td>How would you feel about a feature where if so...</td>\n",
       "      <td></td>\n",
       "    </tr>\n",
       "    <tr>\n",
       "      <th>9</th>\n",
       "      <td>AskReddit</td>\n",
       "      <td>26268612</td>\n",
       "      <td>Reddit, how would you feel about a law that ba...</td>\n",
       "      <td></td>\n",
       "    </tr>\n",
       "  </tbody>\n",
       "</table>\n",
       "</div>"
      ],
      "text/plain": [
       "   subreddit  subreddit_subs  \\\n",
       "0       Home           10102   \n",
       "1       Home           10102   \n",
       "2       Home           10102   \n",
       "3       Home           10102   \n",
       "4       Home           10102   \n",
       "5       Home           10102   \n",
       "6  AskReddit        26268612   \n",
       "7  AskReddit        26268612   \n",
       "8  AskReddit        26268612   \n",
       "9  AskReddit        26268612   \n",
       "\n",
       "                                               title  \\\n",
       "0                                  Beautiful Home :)   \n",
       "1                      This was finished yesterday..   \n",
       "2  My roommate is kicking me out because having a...   \n",
       "3  This was this kitchen I grew up with in London...   \n",
       "4                    Anyone know this style of home?   \n",
       "5                 My view from home after a long day   \n",
       "6  People who haven't pooped in 2019 yet, why are...   \n",
       "7           Stan Lee has passed away at 95 years old   \n",
       "8  How would you feel about a feature where if so...   \n",
       "9  Reddit, how would you feel about a law that ba...   \n",
       "\n",
       "                                                text  \n",
       "0                                                     \n",
       "1                                                     \n",
       "2  So, I am not asking for advice, really...mores...  \n",
       "3                                                     \n",
       "4                                                     \n",
       "5                                                     \n",
       "6                                                     \n",
       "7  As many of you know today is day that many of ...  \n",
       "8                                                     \n",
       "9                                                     "
      ]
     },
     "execution_count": 28,
     "metadata": {},
     "output_type": "execute_result"
    }
   ],
   "source": [
    "df.head(10)"
   ]
  },
  {
   "cell_type": "code",
   "execution_count": 29,
   "metadata": {},
   "outputs": [
    {
     "data": {
      "text/plain": [
       "0                                                     \n",
       "1                                                     \n",
       "2    So, I am not asking for advice, really...mores...\n",
       "3                                                     \n",
       "4                                                     \n",
       "Name: text, dtype: object"
      ]
     },
     "execution_count": 29,
     "metadata": {},
     "output_type": "execute_result"
    }
   ],
   "source": [
    "df['text'].head(5)"
   ]
  },
  {
   "cell_type": "code",
   "execution_count": 30,
   "metadata": {},
   "outputs": [],
   "source": [
    "df['clean_text'] = df['text'].str.replace('[^\\w\\s]',' ')\n",
    "df['clean_title'] = df['title'].str.replace('[^\\w\\s]',' ')"
   ]
  },
  {
   "cell_type": "code",
   "execution_count": 31,
   "metadata": {},
   "outputs": [
    {
     "data": {
      "text/html": [
       "<div>\n",
       "<style scoped>\n",
       "    .dataframe tbody tr th:only-of-type {\n",
       "        vertical-align: middle;\n",
       "    }\n",
       "\n",
       "    .dataframe tbody tr th {\n",
       "        vertical-align: top;\n",
       "    }\n",
       "\n",
       "    .dataframe thead th {\n",
       "        text-align: right;\n",
       "    }\n",
       "</style>\n",
       "<table border=\"1\" class=\"dataframe\">\n",
       "  <thead>\n",
       "    <tr style=\"text-align: right;\">\n",
       "      <th></th>\n",
       "      <th>subreddit</th>\n",
       "      <th>subreddit_subs</th>\n",
       "      <th>title</th>\n",
       "      <th>text</th>\n",
       "      <th>clean_text</th>\n",
       "      <th>clean_title</th>\n",
       "    </tr>\n",
       "  </thead>\n",
       "  <tbody>\n",
       "    <tr>\n",
       "      <th>0</th>\n",
       "      <td>Home</td>\n",
       "      <td>10102</td>\n",
       "      <td>Beautiful Home :)</td>\n",
       "      <td></td>\n",
       "      <td></td>\n",
       "      <td>Beautiful Home</td>\n",
       "    </tr>\n",
       "    <tr>\n",
       "      <th>1</th>\n",
       "      <td>Home</td>\n",
       "      <td>10102</td>\n",
       "      <td>This was finished yesterday..</td>\n",
       "      <td></td>\n",
       "      <td></td>\n",
       "      <td>This was finished yesterday</td>\n",
       "    </tr>\n",
       "    <tr>\n",
       "      <th>2</th>\n",
       "      <td>Home</td>\n",
       "      <td>10102</td>\n",
       "      <td>My roommate is kicking me out because having a...</td>\n",
       "      <td>So, I am not asking for advice, really...mores...</td>\n",
       "      <td>So  I am not asking for advice  really   mores...</td>\n",
       "      <td>My roommate is kicking me out because having a...</td>\n",
       "    </tr>\n",
       "    <tr>\n",
       "      <th>3</th>\n",
       "      <td>Home</td>\n",
       "      <td>10102</td>\n",
       "      <td>This was this kitchen I grew up with in London...</td>\n",
       "      <td></td>\n",
       "      <td></td>\n",
       "      <td>This was this kitchen I grew up with in London...</td>\n",
       "    </tr>\n",
       "    <tr>\n",
       "      <th>4</th>\n",
       "      <td>Home</td>\n",
       "      <td>10102</td>\n",
       "      <td>Anyone know this style of home?</td>\n",
       "      <td></td>\n",
       "      <td></td>\n",
       "      <td>Anyone know this style of home</td>\n",
       "    </tr>\n",
       "    <tr>\n",
       "      <th>5</th>\n",
       "      <td>Home</td>\n",
       "      <td>10102</td>\n",
       "      <td>My view from home after a long day</td>\n",
       "      <td></td>\n",
       "      <td></td>\n",
       "      <td>My view from home after a long day</td>\n",
       "    </tr>\n",
       "    <tr>\n",
       "      <th>6</th>\n",
       "      <td>AskReddit</td>\n",
       "      <td>26268612</td>\n",
       "      <td>People who haven't pooped in 2019 yet, why are...</td>\n",
       "      <td></td>\n",
       "      <td></td>\n",
       "      <td>People who haven t pooped in 2019 yet  why are...</td>\n",
       "    </tr>\n",
       "    <tr>\n",
       "      <th>7</th>\n",
       "      <td>AskReddit</td>\n",
       "      <td>26268612</td>\n",
       "      <td>Stan Lee has passed away at 95 years old</td>\n",
       "      <td>As many of you know today is day that many of ...</td>\n",
       "      <td>As many of you know today is day that many of ...</td>\n",
       "      <td>Stan Lee has passed away at 95 years old</td>\n",
       "    </tr>\n",
       "    <tr>\n",
       "      <th>8</th>\n",
       "      <td>AskReddit</td>\n",
       "      <td>26268612</td>\n",
       "      <td>How would you feel about a feature where if so...</td>\n",
       "      <td></td>\n",
       "      <td></td>\n",
       "      <td>How would you feel about a feature where if so...</td>\n",
       "    </tr>\n",
       "    <tr>\n",
       "      <th>9</th>\n",
       "      <td>AskReddit</td>\n",
       "      <td>26268612</td>\n",
       "      <td>Reddit, how would you feel about a law that ba...</td>\n",
       "      <td></td>\n",
       "      <td></td>\n",
       "      <td>Reddit  how would you feel about a law that ba...</td>\n",
       "    </tr>\n",
       "  </tbody>\n",
       "</table>\n",
       "</div>"
      ],
      "text/plain": [
       "   subreddit  subreddit_subs  \\\n",
       "0       Home           10102   \n",
       "1       Home           10102   \n",
       "2       Home           10102   \n",
       "3       Home           10102   \n",
       "4       Home           10102   \n",
       "5       Home           10102   \n",
       "6  AskReddit        26268612   \n",
       "7  AskReddit        26268612   \n",
       "8  AskReddit        26268612   \n",
       "9  AskReddit        26268612   \n",
       "\n",
       "                                               title  \\\n",
       "0                                  Beautiful Home :)   \n",
       "1                      This was finished yesterday..   \n",
       "2  My roommate is kicking me out because having a...   \n",
       "3  This was this kitchen I grew up with in London...   \n",
       "4                    Anyone know this style of home?   \n",
       "5                 My view from home after a long day   \n",
       "6  People who haven't pooped in 2019 yet, why are...   \n",
       "7           Stan Lee has passed away at 95 years old   \n",
       "8  How would you feel about a feature where if so...   \n",
       "9  Reddit, how would you feel about a law that ba...   \n",
       "\n",
       "                                                text  \\\n",
       "0                                                      \n",
       "1                                                      \n",
       "2  So, I am not asking for advice, really...mores...   \n",
       "3                                                      \n",
       "4                                                      \n",
       "5                                                      \n",
       "6                                                      \n",
       "7  As many of you know today is day that many of ...   \n",
       "8                                                      \n",
       "9                                                      \n",
       "\n",
       "                                          clean_text  \\\n",
       "0                                                      \n",
       "1                                                      \n",
       "2  So  I am not asking for advice  really   mores...   \n",
       "3                                                      \n",
       "4                                                      \n",
       "5                                                      \n",
       "6                                                      \n",
       "7  As many of you know today is day that many of ...   \n",
       "8                                                      \n",
       "9                                                      \n",
       "\n",
       "                                         clean_title  \n",
       "0                                  Beautiful Home     \n",
       "1                      This was finished yesterday    \n",
       "2  My roommate is kicking me out because having a...  \n",
       "3  This was this kitchen I grew up with in London...  \n",
       "4                    Anyone know this style of home   \n",
       "5                 My view from home after a long day  \n",
       "6  People who haven t pooped in 2019 yet  why are...  \n",
       "7           Stan Lee has passed away at 95 years old  \n",
       "8  How would you feel about a feature where if so...  \n",
       "9  Reddit  how would you feel about a law that ba...  "
      ]
     },
     "execution_count": 31,
     "metadata": {},
     "output_type": "execute_result"
    }
   ],
   "source": [
    "df.head(10)"
   ]
  },
  {
   "cell_type": "code",
   "execution_count": 32,
   "metadata": {},
   "outputs": [],
   "source": [
    "# We set our features as description, and target as subreddit.  \n",
    "# Create a mass text.\n",
    "\n",
    "features = ['clean_text', 'clean_title', 'subreddit_subs'] \n",
    "target = 'subreddit'\n",
    "\n",
    "X = df[features]\n",
    "y = df[[target]]"
   ]
  },
  {
   "cell_type": "code",
   "execution_count": 33,
   "metadata": {},
   "outputs": [],
   "source": [
    "#Create the nlp object\n",
    "nlp = spacy.load(\"en_core_web_md\")\n",
    "\n",
    "# create tokenizer object\n",
    "tokenizer = Tokenizer(nlp.vocab)"
   ]
  },
  {
   "cell_type": "code",
   "execution_count": 34,
   "metadata": {},
   "outputs": [],
   "source": [
    "def tokenize(doc):\n",
    "        \"\"\"Return the tokens\"\"\"\n",
    "        return [token.text for token in tokenizer(doc)]"
   ]
  },
  {
   "cell_type": "code",
   "execution_count": 35,
   "metadata": {},
   "outputs": [],
   "source": [
    "def get_lemmas(text):\n",
    "        \"\"\"Return the Lemmas\"\"\"\n",
    "        lemmas = []\n",
    "        doc = nlp(text)\n",
    "    \n",
    "        for token in doc: \n",
    "            if ((token.is_stop == False) and (token.is_punct == False)) and (token.pos_ != 'PRON'):\n",
    "                lemmas.append(token.lemma_)\n",
    "    \n",
    "        return lemmas"
   ]
  },
  {
   "cell_type": "code",
   "execution_count": 41,
   "metadata": {},
   "outputs": [],
   "source": [
    "text = df[\"clean_text\"]\n",
    "\n",
    "# Instantiate vectorizer object\n",
    "tfidf = TfidfVectorizer(tokenizer=get_lemmas, min_df=0.025, max_df=.98, ngram_range=(1,2))\n",
    "#tfidf = TfidfVectorizer(stop_words=\"english\")\n",
    "# Create a vocabulary and get word counts per document\n",
    "dtm = tfidf.fit_transform(text) # Similiar to fit_predict\n",
    "\n",
    "# Get feature names to use as dataframe column headers\n",
    "#dtm = pd.DataFrame(dtm.todense(), columns=tfidf.get_feature_names())"
   ]
  },
  {
   "cell_type": "code",
   "execution_count": 42,
   "metadata": {},
   "outputs": [
    {
     "name": "stderr",
     "output_type": "stream",
     "text": [
      "/Users/michelle/opt/anaconda3/envs/U4-S1-NLP/lib/python3.7/site-packages/sklearn/neighbors/base.py:217: UserWarning: cannot use tree with sparse input: using brute force\n",
      "  warnings.warn(\"cannot use tree with sparse input: \"\n"
     ]
    },
    {
     "data": {
      "text/plain": [
       "NearestNeighbors(algorithm='ball_tree', leaf_size=30, metric='minkowski',\n",
       "         metric_params=None, n_jobs=None, n_neighbors=5, p=2, radius=1.0)"
      ]
     },
     "execution_count": 42,
     "metadata": {},
     "output_type": "execute_result"
    }
   ],
   "source": [
    "# Fit on TF-IDF Vectors\n",
    "size = 5\n",
    "model  = NearestNeighbors(n_neighbors=size, algorithm='ball_tree')\n",
    "model.fit(dtm)"
   ]
  },
  {
   "cell_type": "code",
   "execution_count": 43,
   "metadata": {},
   "outputs": [],
   "source": [
    "user_input = [\"\"\"Capes are not a great idea of you are a super hero trying to save the world.\"\"\"]\n",
    "\n",
    "vec_user_input = tfidf.transform(user_input)\n",
    "dist, subreddit_index = model.kneighbors(vec_user_input.todense())"
   ]
  },
  {
   "cell_type": "code",
   "execution_count": 44,
   "metadata": {},
   "outputs": [
    {
     "name": "stdout",
     "output_type": "stream",
     "text": [
      "              subreddit                                              title  \\\n",
      "2596  AskScienceFiction  [LOTR] Gandalf says \"the world is gnawed by na...   \n",
      "1994           baseball  THE HOUSTON ASTROS ARE THE 2017 WORLD SERIES C...   \n",
      "3131     MechanicAdvice    Don't Ever Tell Anyone Your Birthday in a shop.   \n",
      "3134      YouShouldKnow  YSK: Your last chance to save the freedom of f...   \n",
      "3132     MechanicAdvice  I spent $1,000 on this 08' Malibu LS with a bl...   \n",
      "\n",
      "                                                   text  subreddit_subs  \n",
      "2596  Wouldn't it be a good idea to inform the world...          176850  \n",
      "1994  THIS IS THEIR FIRST WORLD SERIES TITLE IN FRAN...         1106726  \n",
      "3131                                                             309626  \n",
      "3134                                                            1739419  \n",
      "3132                                                             309626  \n"
     ]
    }
   ],
   "source": [
    "recommended_reddits = [df[['subreddit','title','text','subreddit_subs']].iloc[n] for n in subreddit_index]\n",
    "\n",
    "print(*recommended_reddits, sep = \"\\n\")"
   ]
  },
  {
   "cell_type": "code",
   "execution_count": 40,
   "metadata": {},
   "outputs": [],
   "source": [
    "#do pickling here\n",
    "# save the model to disk\n",
    "#filename = 'test_modelm.sav'\n",
    "#pickle.dump(model, open(filename, 'wb'))\n",
    " \n",
    "    \n",
    "pickle.dump(logreg, open(\"logreg.pkl\", 'wb'))\n",
    "# some time later...\n",
    " \n"
   ]
  },
  {
   "cell_type": "code",
   "execution_count": 77,
   "metadata": {},
   "outputs": [
    {
     "name": "stdout",
     "output_type": "stream",
     "text": [
      "NearestNeighbors(algorithm='ball_tree', leaf_size=30, metric='minkowski',\n",
      "         metric_params=None, n_jobs=None, n_neighbors=5, p=2, radius=1.0)\n"
     ]
    }
   ],
   "source": [
    "# # load the model from disk\n",
    "#loaded_model = pickle.load(open(filename, 'rb'))\n",
    "#test_model = pickle.load(open(\"test_modelm.sav\", \"rb\"))\n",
    "#print(test_model)"
   ]
  },
  {
   "cell_type": "code",
   "execution_count": null,
   "metadata": {},
   "outputs": [],
   "source": []
  }
 ],
 "metadata": {
  "kernelspec": {
   "display_name": "U4-S1-NLP (numpy updates)",
   "language": "python",
   "name": "u4-s1-nlp"
  },
  "language_info": {
   "codemirror_mode": {
    "name": "ipython",
    "version": 3
   },
   "file_extension": ".py",
   "mimetype": "text/x-python",
   "name": "python",
   "nbconvert_exporter": "python",
   "pygments_lexer": "ipython3",
   "version": "3.7.0"
  }
 },
 "nbformat": 4,
 "nbformat_minor": 4
}
