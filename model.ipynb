{
 "cells": [
  {
   "cell_type": "code",
   "execution_count": 1,
   "metadata": {},
   "outputs": [],
   "source": [
    "import os\n",
    "import pickle\n",
    "\n",
    "import numpy as np\n",
    "import spacy\n",
    "\n",
    "from spacy.tokenizer import Tokenizer\n",
    "from spacy.lang.en.stop_words import STOP_WORDS\n",
    "from sklearn.feature_extraction.text import TfidfVectorizer\n",
    "from sklearn.neighbors import NearestNeighbors"
   ]
  },
  {
   "cell_type": "code",
   "execution_count": 2,
   "metadata": {},
   "outputs": [],
   "source": [
    "import pandas as pd\n",
    "import sqlite3\n",
    "conn = sqlite3.connect(\"api/db-mega.sqlite3\")\n",
    "df = pd.read_sql_query(\"select * from submissions order by random() limit 5000;\", conn)\n"
   ]
  },
  {
   "cell_type": "code",
   "execution_count": 3,
   "metadata": {},
   "outputs": [
    {
     "data": {
      "text/plain": [
       "(5000, 4)"
      ]
     },
     "execution_count": 3,
     "metadata": {},
     "output_type": "execute_result"
    }
   ],
   "source": [
    "df.shape"
   ]
  },
  {
   "cell_type": "code",
   "execution_count": 4,
   "metadata": {},
   "outputs": [
    {
     "data": {
      "text/html": [
       "<div>\n",
       "<style scoped>\n",
       "    .dataframe tbody tr th:only-of-type {\n",
       "        vertical-align: middle;\n",
       "    }\n",
       "\n",
       "    .dataframe tbody tr th {\n",
       "        vertical-align: top;\n",
       "    }\n",
       "\n",
       "    .dataframe thead th {\n",
       "        text-align: right;\n",
       "    }\n",
       "</style>\n",
       "<table border=\"1\" class=\"dataframe\">\n",
       "  <thead>\n",
       "    <tr style=\"text-align: right;\">\n",
       "      <th></th>\n",
       "      <th>subreddit</th>\n",
       "      <th>subreddit_subs</th>\n",
       "      <th>title</th>\n",
       "      <th>text</th>\n",
       "    </tr>\n",
       "  </thead>\n",
       "  <tbody>\n",
       "    <tr>\n",
       "      <th>0</th>\n",
       "      <td>london</td>\n",
       "      <td>220287</td>\n",
       "      <td>Oxford Street. Christmas morning</td>\n",
       "      <td></td>\n",
       "    </tr>\n",
       "    <tr>\n",
       "      <th>1</th>\n",
       "      <td>darksouls3</td>\n",
       "      <td>293853</td>\n",
       "      <td>Dear Bob Ross</td>\n",
       "      <td>Bob Ross, you invaded me in the catacombs. I a...</td>\n",
       "    </tr>\n",
       "    <tr>\n",
       "      <th>2</th>\n",
       "      <td>podcasts</td>\n",
       "      <td>1028017</td>\n",
       "      <td>What are your favourite daily podcasts?</td>\n",
       "      <td></td>\n",
       "    </tr>\n",
       "    <tr>\n",
       "      <th>3</th>\n",
       "      <td>Bumble</td>\n",
       "      <td>77503</td>\n",
       "      <td>Thoughts about the new conversation starters?</td>\n",
       "      <td></td>\n",
       "    </tr>\n",
       "    <tr>\n",
       "      <th>4</th>\n",
       "      <td>gaming</td>\n",
       "      <td>24990738</td>\n",
       "      <td>At Pax South, there were amazing Fallout Mario...</td>\n",
       "      <td></td>\n",
       "    </tr>\n",
       "    <tr>\n",
       "      <th>5</th>\n",
       "      <td>NoMansSkyTheGame</td>\n",
       "      <td>303002</td>\n",
       "      <td>Managed to get a snap of the entrance to a bla...</td>\n",
       "      <td></td>\n",
       "    </tr>\n",
       "    <tr>\n",
       "      <th>6</th>\n",
       "      <td>RPClipsGTA</td>\n",
       "      <td>27361</td>\n",
       "      <td>Yung Dab learns to dab.</td>\n",
       "      <td></td>\n",
       "    </tr>\n",
       "    <tr>\n",
       "      <th>7</th>\n",
       "      <td>stocks</td>\n",
       "      <td>484990</td>\n",
       "      <td>Tesla ships 63,000 vehicles in Q1, produced 77...</td>\n",
       "      <td>[https://www.cnbc.com/2019/04/04/tesla-q1-2019...</td>\n",
       "    </tr>\n",
       "    <tr>\n",
       "      <th>8</th>\n",
       "      <td>pics</td>\n",
       "      <td>23741818</td>\n",
       "      <td>My girlfriend wanted to do a Quidditch costume...</td>\n",
       "      <td></td>\n",
       "    </tr>\n",
       "    <tr>\n",
       "      <th>9</th>\n",
       "      <td>StarWarsBattlefront</td>\n",
       "      <td>266620</td>\n",
       "      <td>I love this community</td>\n",
       "      <td></td>\n",
       "    </tr>\n",
       "  </tbody>\n",
       "</table>\n",
       "</div>"
      ],
      "text/plain": [
       "             subreddit  subreddit_subs  \\\n",
       "0               london          220287   \n",
       "1           darksouls3          293853   \n",
       "2             podcasts         1028017   \n",
       "3               Bumble           77503   \n",
       "4               gaming        24990738   \n",
       "5     NoMansSkyTheGame          303002   \n",
       "6           RPClipsGTA           27361   \n",
       "7               stocks          484990   \n",
       "8                 pics        23741818   \n",
       "9  StarWarsBattlefront          266620   \n",
       "\n",
       "                                               title  \\\n",
       "0                   Oxford Street. Christmas morning   \n",
       "1                                      Dear Bob Ross   \n",
       "2            What are your favourite daily podcasts?   \n",
       "3      Thoughts about the new conversation starters?   \n",
       "4  At Pax South, there were amazing Fallout Mario...   \n",
       "5  Managed to get a snap of the entrance to a bla...   \n",
       "6                            Yung Dab learns to dab.   \n",
       "7  Tesla ships 63,000 vehicles in Q1, produced 77...   \n",
       "8  My girlfriend wanted to do a Quidditch costume...   \n",
       "9                              I love this community   \n",
       "\n",
       "                                                text  \n",
       "0                                                     \n",
       "1  Bob Ross, you invaded me in the catacombs. I a...  \n",
       "2                                                     \n",
       "3                                                     \n",
       "4                                                     \n",
       "5                                                     \n",
       "6                                                     \n",
       "7  [https://www.cnbc.com/2019/04/04/tesla-q1-2019...  \n",
       "8                                                     \n",
       "9                                                     "
      ]
     },
     "execution_count": 4,
     "metadata": {},
     "output_type": "execute_result"
    }
   ],
   "source": [
    "df.head(10)"
   ]
  },
  {
   "cell_type": "code",
   "execution_count": 5,
   "metadata": {},
   "outputs": [
    {
     "data": {
      "text/plain": [
       "0                                                     \n",
       "1    Bob Ross, you invaded me in the catacombs. I a...\n",
       "2                                                     \n",
       "3                                                     \n",
       "4                                                     \n",
       "Name: text, dtype: object"
      ]
     },
     "execution_count": 5,
     "metadata": {},
     "output_type": "execute_result"
    }
   ],
   "source": [
    "df['text'].head(5)"
   ]
  },
  {
   "cell_type": "code",
   "execution_count": 6,
   "metadata": {},
   "outputs": [],
   "source": [
    "df['clean_text'] = df['text'].str.replace('[^\\w\\s]',' ')\n",
    "df['clean_title'] = df['title'].str.replace('[^\\w\\s]',' ')"
   ]
  },
  {
   "cell_type": "code",
   "execution_count": 7,
   "metadata": {},
   "outputs": [
    {
     "data": {
      "text/html": [
       "<div>\n",
       "<style scoped>\n",
       "    .dataframe tbody tr th:only-of-type {\n",
       "        vertical-align: middle;\n",
       "    }\n",
       "\n",
       "    .dataframe tbody tr th {\n",
       "        vertical-align: top;\n",
       "    }\n",
       "\n",
       "    .dataframe thead th {\n",
       "        text-align: right;\n",
       "    }\n",
       "</style>\n",
       "<table border=\"1\" class=\"dataframe\">\n",
       "  <thead>\n",
       "    <tr style=\"text-align: right;\">\n",
       "      <th></th>\n",
       "      <th>subreddit</th>\n",
       "      <th>subreddit_subs</th>\n",
       "      <th>title</th>\n",
       "      <th>text</th>\n",
       "      <th>clean_text</th>\n",
       "      <th>clean_title</th>\n",
       "    </tr>\n",
       "  </thead>\n",
       "  <tbody>\n",
       "    <tr>\n",
       "      <th>0</th>\n",
       "      <td>london</td>\n",
       "      <td>220287</td>\n",
       "      <td>Oxford Street. Christmas morning</td>\n",
       "      <td></td>\n",
       "      <td></td>\n",
       "      <td>Oxford Street  Christmas morning</td>\n",
       "    </tr>\n",
       "    <tr>\n",
       "      <th>1</th>\n",
       "      <td>darksouls3</td>\n",
       "      <td>293853</td>\n",
       "      <td>Dear Bob Ross</td>\n",
       "      <td>Bob Ross, you invaded me in the catacombs. I a...</td>\n",
       "      <td>Bob Ross  you invaded me in the catacombs  I a...</td>\n",
       "      <td>Dear Bob Ross</td>\n",
       "    </tr>\n",
       "    <tr>\n",
       "      <th>2</th>\n",
       "      <td>podcasts</td>\n",
       "      <td>1028017</td>\n",
       "      <td>What are your favourite daily podcasts?</td>\n",
       "      <td></td>\n",
       "      <td></td>\n",
       "      <td>What are your favourite daily podcasts</td>\n",
       "    </tr>\n",
       "    <tr>\n",
       "      <th>3</th>\n",
       "      <td>Bumble</td>\n",
       "      <td>77503</td>\n",
       "      <td>Thoughts about the new conversation starters?</td>\n",
       "      <td></td>\n",
       "      <td></td>\n",
       "      <td>Thoughts about the new conversation starters</td>\n",
       "    </tr>\n",
       "    <tr>\n",
       "      <th>4</th>\n",
       "      <td>gaming</td>\n",
       "      <td>24990738</td>\n",
       "      <td>At Pax South, there were amazing Fallout Mario...</td>\n",
       "      <td></td>\n",
       "      <td></td>\n",
       "      <td>At Pax South  there were amazing Fallout Mario...</td>\n",
       "    </tr>\n",
       "    <tr>\n",
       "      <th>5</th>\n",
       "      <td>NoMansSkyTheGame</td>\n",
       "      <td>303002</td>\n",
       "      <td>Managed to get a snap of the entrance to a bla...</td>\n",
       "      <td></td>\n",
       "      <td></td>\n",
       "      <td>Managed to get a snap of the entrance to a bla...</td>\n",
       "    </tr>\n",
       "    <tr>\n",
       "      <th>6</th>\n",
       "      <td>RPClipsGTA</td>\n",
       "      <td>27361</td>\n",
       "      <td>Yung Dab learns to dab.</td>\n",
       "      <td></td>\n",
       "      <td></td>\n",
       "      <td>Yung Dab learns to dab</td>\n",
       "    </tr>\n",
       "    <tr>\n",
       "      <th>7</th>\n",
       "      <td>stocks</td>\n",
       "      <td>484990</td>\n",
       "      <td>Tesla ships 63,000 vehicles in Q1, produced 77...</td>\n",
       "      <td>[https://www.cnbc.com/2019/04/04/tesla-q1-2019...</td>\n",
       "      <td>https   www cnbc com 2019 04 04 tesla q1 2019...</td>\n",
       "      <td>Tesla ships 63 000 vehicles in Q1  produced 77...</td>\n",
       "    </tr>\n",
       "    <tr>\n",
       "      <th>8</th>\n",
       "      <td>pics</td>\n",
       "      <td>23741818</td>\n",
       "      <td>My girlfriend wanted to do a Quidditch costume...</td>\n",
       "      <td></td>\n",
       "      <td></td>\n",
       "      <td>My girlfriend wanted to do a Quidditch costume...</td>\n",
       "    </tr>\n",
       "    <tr>\n",
       "      <th>9</th>\n",
       "      <td>StarWarsBattlefront</td>\n",
       "      <td>266620</td>\n",
       "      <td>I love this community</td>\n",
       "      <td></td>\n",
       "      <td></td>\n",
       "      <td>I love this community</td>\n",
       "    </tr>\n",
       "  </tbody>\n",
       "</table>\n",
       "</div>"
      ],
      "text/plain": [
       "             subreddit  subreddit_subs  \\\n",
       "0               london          220287   \n",
       "1           darksouls3          293853   \n",
       "2             podcasts         1028017   \n",
       "3               Bumble           77503   \n",
       "4               gaming        24990738   \n",
       "5     NoMansSkyTheGame          303002   \n",
       "6           RPClipsGTA           27361   \n",
       "7               stocks          484990   \n",
       "8                 pics        23741818   \n",
       "9  StarWarsBattlefront          266620   \n",
       "\n",
       "                                               title  \\\n",
       "0                   Oxford Street. Christmas morning   \n",
       "1                                      Dear Bob Ross   \n",
       "2            What are your favourite daily podcasts?   \n",
       "3      Thoughts about the new conversation starters?   \n",
       "4  At Pax South, there were amazing Fallout Mario...   \n",
       "5  Managed to get a snap of the entrance to a bla...   \n",
       "6                            Yung Dab learns to dab.   \n",
       "7  Tesla ships 63,000 vehicles in Q1, produced 77...   \n",
       "8  My girlfriend wanted to do a Quidditch costume...   \n",
       "9                              I love this community   \n",
       "\n",
       "                                                text  \\\n",
       "0                                                      \n",
       "1  Bob Ross, you invaded me in the catacombs. I a...   \n",
       "2                                                      \n",
       "3                                                      \n",
       "4                                                      \n",
       "5                                                      \n",
       "6                                                      \n",
       "7  [https://www.cnbc.com/2019/04/04/tesla-q1-2019...   \n",
       "8                                                      \n",
       "9                                                      \n",
       "\n",
       "                                          clean_text  \\\n",
       "0                                                      \n",
       "1  Bob Ross  you invaded me in the catacombs  I a...   \n",
       "2                                                      \n",
       "3                                                      \n",
       "4                                                      \n",
       "5                                                      \n",
       "6                                                      \n",
       "7   https   www cnbc com 2019 04 04 tesla q1 2019...   \n",
       "8                                                      \n",
       "9                                                      \n",
       "\n",
       "                                         clean_title  \n",
       "0                   Oxford Street  Christmas morning  \n",
       "1                                      Dear Bob Ross  \n",
       "2            What are your favourite daily podcasts   \n",
       "3      Thoughts about the new conversation starters   \n",
       "4  At Pax South  there were amazing Fallout Mario...  \n",
       "5  Managed to get a snap of the entrance to a bla...  \n",
       "6                            Yung Dab learns to dab   \n",
       "7  Tesla ships 63 000 vehicles in Q1  produced 77...  \n",
       "8  My girlfriend wanted to do a Quidditch costume...  \n",
       "9                              I love this community  "
      ]
     },
     "execution_count": 7,
     "metadata": {},
     "output_type": "execute_result"
    }
   ],
   "source": [
    "df.head(10)"
   ]
  },
  {
   "cell_type": "code",
   "execution_count": 8,
   "metadata": {},
   "outputs": [],
   "source": [
    "# We set our features as description, and target as subreddit.  \n",
    "# Create a mass text.\n",
    "\n",
    "features = ['clean_text', 'clean_title', 'subreddit_subs'] \n",
    "target = 'subreddit'\n",
    "\n",
    "X = df[features]\n",
    "y = df[[target]]"
   ]
  },
  {
   "cell_type": "code",
   "execution_count": 10,
   "metadata": {},
   "outputs": [],
   "source": [
    "# #Create the nlp object\n",
    "# nlp = spacy.load(\"en_core_web_md\")"
   ]
  },
  {
   "cell_type": "code",
   "execution_count": null,
   "metadata": {},
   "outputs": [],
   "source": [
    "# def get_lemmas(text):\n",
    "#         \"\"\"Return the Lemmas\"\"\"\n",
    "#         lemmas = []\n",
    "#         doc = nlp(text)\n",
    "    \n",
    "#         for token in doc: \n",
    "#             if ((token.is_stop == False) and (token.is_punct == False)) and (token.pos_ != 'PRON'):\n",
    "#                 lemmas.append(token.lemma_)\n",
    "    \n",
    "#         return lemmas"
   ]
  },
  {
   "cell_type": "code",
   "execution_count": 11,
   "metadata": {},
   "outputs": [],
   "source": [
    "import vectorizer_helpers\n",
    "\n",
    "text = df[\"clean_text\"]\n",
    "\n",
    "# Instantiate vectorizer object\n",
    "tfidf = TfidfVectorizer(tokenizer=vectorizer_helpers.get_lemmas, min_df=0.025, max_df=.98, ngram_range=(1,2))\n",
    "#tfidf = TfidfVectorizer(stop_words=\"english\")\n",
    "# Create a vocabulary and get word counts per document\n",
    "dtm = tfidf.fit_transform(text) # Similiar to fit_predict\n",
    "\n",
    "# Get feature names to use as dataframe column headers\n",
    "#dtm = pd.DataFrame(dtm.todense(), columns=tfidf.get_feature_names())"
   ]
  },
  {
   "cell_type": "code",
   "execution_count": 12,
   "metadata": {},
   "outputs": [
    {
     "name": "stderr",
     "output_type": "stream",
     "text": [
      "/Users/michelle/opt/anaconda3/envs/U4-S1-NLP/lib/python3.7/site-packages/sklearn/neighbors/base.py:217: UserWarning: cannot use tree with sparse input: using brute force\n",
      "  warnings.warn(\"cannot use tree with sparse input: \"\n"
     ]
    },
    {
     "data": {
      "text/plain": [
       "NearestNeighbors(algorithm='ball_tree', leaf_size=30, metric='minkowski',\n",
       "         metric_params=None, n_jobs=None, n_neighbors=501, p=2, radius=1.0)"
      ]
     },
     "execution_count": 12,
     "metadata": {},
     "output_type": "execute_result"
    }
   ],
   "source": [
    "# Fit on TF-IDF Vectors\n",
    "size = 501\n",
    "model  = NearestNeighbors(n_neighbors=size, algorithm='ball_tree')\n",
    "model.fit(dtm)"
   ]
  },
  {
   "cell_type": "code",
   "execution_count": 13,
   "metadata": {},
   "outputs": [],
   "source": [
    "user_input = [\"\"\"Capes are not a great idea of you are a super hero trying to save the world.\"\"\"]\n",
    "\n",
    "#vec_user_input = tfidf.transform(user_input)\n",
    "#dist, subreddit_index = model.kneighbors(vec_user_input.todense())\n",
    "dist, subreddit_index = model.kneighbors(tfidf.transform(user_input).todense())"
   ]
  },
  {
   "cell_type": "code",
   "execution_count": 14,
   "metadata": {},
   "outputs": [],
   "source": [
    "recommended_reddits = [df[['subreddit','title','text','subreddit_subs']].iloc[n] for n in subreddit_index]\n",
    "\n",
    "#print(*recommended_reddits, sep = \"\\n\")"
   ]
  },
  {
   "cell_type": "code",
   "execution_count": 15,
   "metadata": {},
   "outputs": [],
   "source": [
    "import pickle\n",
    "\n",
    "knnPickle = 'api/modelknn_pkl.sav'\n",
    "\n",
    "index_df = df[['subreddit']]\n",
    "\n",
    "pickle.dump((model, index_df, tfidf), open(knnPickle, 'wb'))\n"
   ]
  },
  {
   "cell_type": "code",
   "execution_count": 16,
   "metadata": {},
   "outputs": [
    {
     "name": "stdout",
     "output_type": "stream",
     "text": [
      "['excel', 'ValveIndex', 'RPClipsGTA']\n"
     ]
    }
   ],
   "source": [
    "# # load the model from disk\n",
    "loaded_model, loaded_index_df, loaded_tfidf = pickle.load(open(knnPickle, 'rb'))\n",
    "dist, indices = loaded_model.kneighbors(loaded_tfidf.transform(user_input).todense())\n",
    "recommended_reddits = [loaded_index_df.iloc[n]['subreddit'] for n in indices[0]]\n",
    "\n",
    "\n",
    "\n",
    "def uniq(input):\n",
    "  output = []\n",
    "  for x in input:\n",
    "    if x not in output:\n",
    "      output.append(x)\n",
    "  return output\n",
    "\n",
    "print(uniq(recommended_reddits)[:3])"
   ]
  },
  {
   "cell_type": "code",
   "execution_count": null,
   "metadata": {},
   "outputs": [],
   "source": [
    "# Pkl_Model = \"Pickle_Model.pkl\"  \n",
    "# with open(Pkl_Model, 'wb') as file:  \n",
    "#     pickle.dump(LR_Model, file)"
   ]
  }
 ],
 "metadata": {
  "kernelspec": {
   "display_name": "U4-S1-NLP (numpy updates)",
   "language": "python",
   "name": "u4-s1-nlp"
  },
  "language_info": {
   "codemirror_mode": {
    "name": "ipython",
    "version": 3
   },
   "file_extension": ".py",
   "mimetype": "text/x-python",
   "name": "python",
   "nbconvert_exporter": "python",
   "pygments_lexer": "ipython3",
   "version": "3.7.0"
  }
 },
 "nbformat": 4,
 "nbformat_minor": 4
}
