{
 "cells": [
  {
   "cell_type": "code",
   "execution_count": 2,
   "metadata": {},
   "outputs": [
    {
     "ename": "ModuleNotFoundError",
     "evalue": "No module named 'spacy'",
     "output_type": "error",
     "traceback": [
      "\u001b[1;31m---------------------------------------------------------------------------\u001b[0m",
      "\u001b[1;31mModuleNotFoundError\u001b[0m                       Traceback (most recent call last)",
      "\u001b[1;32m<ipython-input-2-ca6d634b42b2>\u001b[0m in \u001b[0;36m<module>\u001b[1;34m\u001b[0m\n\u001b[0;32m      3\u001b[0m \u001b[1;33m\u001b[0m\u001b[0m\n\u001b[0;32m      4\u001b[0m \u001b[1;32mimport\u001b[0m \u001b[0mnumpy\u001b[0m \u001b[1;32mas\u001b[0m \u001b[0mnp\u001b[0m\u001b[1;33m\u001b[0m\u001b[1;33m\u001b[0m\u001b[0m\n\u001b[1;32m----> 5\u001b[1;33m \u001b[1;32mimport\u001b[0m \u001b[0mspacy\u001b[0m\u001b[1;33m\u001b[0m\u001b[1;33m\u001b[0m\u001b[0m\n\u001b[0m\u001b[0;32m      6\u001b[0m \u001b[1;33m\u001b[0m\u001b[0m\n\u001b[0;32m      7\u001b[0m \u001b[1;32mfrom\u001b[0m \u001b[0mspacy\u001b[0m\u001b[1;33m.\u001b[0m\u001b[0mtokenizer\u001b[0m \u001b[1;32mimport\u001b[0m \u001b[0mTokenizer\u001b[0m\u001b[1;33m\u001b[0m\u001b[1;33m\u001b[0m\u001b[0m\n",
      "\u001b[1;31mModuleNotFoundError\u001b[0m: No module named 'spacy'"
     ]
    }
   ],
   "source": [
    "import os\n",
    "import pickle\n",
    "\n",
    "import numpy as np\n",
    "import spacy\n",
    "\n",
    "from spacy.tokenizer import Tokenizer\n",
    "from sklearn.feature_extraction.text import TfidfVectorizer\n",
    "from sklearn.neighbors import NearestNeighbors"
   ]
  },
  {
   "cell_type": "code",
   "execution_count": 18,
   "metadata": {},
   "outputs": [],
   "source": [
    "import pandas as pd\n",
    "import sqlite3\n",
    "conn = sqlite3.connect(\"db.sqlite3\")\n",
    "df = pd.read_sql_query(\"select * from submissions limit 5000;\", conn)\n"
   ]
  },
  {
   "cell_type": "code",
   "execution_count": 19,
   "metadata": {},
   "outputs": [
    {
     "data": {
      "text/plain": [
       "(2000, 4)"
      ]
     },
     "execution_count": 19,
     "metadata": {},
     "output_type": "execute_result"
    }
   ],
   "source": [
    "df.shape"
   ]
  },
  {
   "cell_type": "code",
   "execution_count": 20,
   "metadata": {},
   "outputs": [
    {
     "data": {
      "text/html": [
       "<div>\n",
       "<style scoped>\n",
       "    .dataframe tbody tr th:only-of-type {\n",
       "        vertical-align: middle;\n",
       "    }\n",
       "\n",
       "    .dataframe tbody tr th {\n",
       "        vertical-align: top;\n",
       "    }\n",
       "\n",
       "    .dataframe thead th {\n",
       "        text-align: right;\n",
       "    }\n",
       "</style>\n",
       "<table border=\"1\" class=\"dataframe\">\n",
       "  <thead>\n",
       "    <tr style=\"text-align: right;\">\n",
       "      <th></th>\n",
       "      <th>subreddit</th>\n",
       "      <th>subscribers</th>\n",
       "      <th>title</th>\n",
       "      <th>text</th>\n",
       "    </tr>\n",
       "  </thead>\n",
       "  <tbody>\n",
       "    <tr>\n",
       "      <th>0</th>\n",
       "      <td>AskReddit</td>\n",
       "      <td>26241971</td>\n",
       "      <td>People who haven't pooped in 2019 yet, why are...</td>\n",
       "      <td></td>\n",
       "    </tr>\n",
       "    <tr>\n",
       "      <th>1</th>\n",
       "      <td>AskReddit</td>\n",
       "      <td>26241971</td>\n",
       "      <td>Stan Lee has passed away at 95 years old</td>\n",
       "      <td>As many of you know today is day that many of ...</td>\n",
       "    </tr>\n",
       "    <tr>\n",
       "      <th>2</th>\n",
       "      <td>Home</td>\n",
       "      <td>10022</td>\n",
       "      <td>Beautiful Home :)</td>\n",
       "      <td></td>\n",
       "    </tr>\n",
       "    <tr>\n",
       "      <th>3</th>\n",
       "      <td>Home</td>\n",
       "      <td>10022</td>\n",
       "      <td>My roommate is kicking me out because having a...</td>\n",
       "      <td>So, I am not asking for advice, really...mores...</td>\n",
       "    </tr>\n",
       "    <tr>\n",
       "      <th>4</th>\n",
       "      <td>videos</td>\n",
       "      <td>22077202</td>\n",
       "      <td>This is what happens when one company owns doz...</td>\n",
       "      <td></td>\n",
       "    </tr>\n",
       "    <tr>\n",
       "      <th>5</th>\n",
       "      <td>videos</td>\n",
       "      <td>22077202</td>\n",
       "      <td>Youtube is Facilitating the Sexual Exploitatio...</td>\n",
       "      <td></td>\n",
       "    </tr>\n",
       "    <tr>\n",
       "      <th>6</th>\n",
       "      <td>news</td>\n",
       "      <td>19777808</td>\n",
       "      <td>Blizzard Employees Staged a Walkout After the ...</td>\n",
       "      <td></td>\n",
       "    </tr>\n",
       "    <tr>\n",
       "      <th>7</th>\n",
       "      <td>news</td>\n",
       "      <td>19777808</td>\n",
       "      <td>Kobe Bryant killed in helicopter crash in Cali...</td>\n",
       "      <td></td>\n",
       "    </tr>\n",
       "    <tr>\n",
       "      <th>8</th>\n",
       "      <td>worldnews</td>\n",
       "      <td>23055673</td>\n",
       "      <td>Trump Impeached for Abuse of Power</td>\n",
       "      <td></td>\n",
       "    </tr>\n",
       "    <tr>\n",
       "      <th>9</th>\n",
       "      <td>worldnews</td>\n",
       "      <td>23055673</td>\n",
       "      <td>Two weeks before his inauguration, Donald J. T...</td>\n",
       "      <td></td>\n",
       "    </tr>\n",
       "  </tbody>\n",
       "</table>\n",
       "</div>"
      ],
      "text/plain": [
       "   subreddit  subscribers                                              title  \\\n",
       "0  AskReddit     26241971  People who haven't pooped in 2019 yet, why are...   \n",
       "1  AskReddit     26241971           Stan Lee has passed away at 95 years old   \n",
       "2       Home        10022                                  Beautiful Home :)   \n",
       "3       Home        10022  My roommate is kicking me out because having a...   \n",
       "4     videos     22077202  This is what happens when one company owns doz...   \n",
       "5     videos     22077202  Youtube is Facilitating the Sexual Exploitatio...   \n",
       "6       news     19777808  Blizzard Employees Staged a Walkout After the ...   \n",
       "7       news     19777808  Kobe Bryant killed in helicopter crash in Cali...   \n",
       "8  worldnews     23055673                 Trump Impeached for Abuse of Power   \n",
       "9  worldnews     23055673  Two weeks before his inauguration, Donald J. T...   \n",
       "\n",
       "                                                text  \n",
       "0                                                     \n",
       "1  As many of you know today is day that many of ...  \n",
       "2                                                     \n",
       "3  So, I am not asking for advice, really...mores...  \n",
       "4                                                     \n",
       "5                                                     \n",
       "6                                                     \n",
       "7                                                     \n",
       "8                                                     \n",
       "9                                                     "
      ]
     },
     "execution_count": 20,
     "metadata": {},
     "output_type": "execute_result"
    }
   ],
   "source": [
    "df.head(10)"
   ]
  },
  {
   "cell_type": "code",
   "execution_count": 21,
   "metadata": {},
   "outputs": [
    {
     "data": {
      "text/plain": [
       "0                                                     \n",
       "1    As many of you know today is day that many of ...\n",
       "2                                                     \n",
       "3    So, I am not asking for advice, really...mores...\n",
       "4                                                     \n",
       "Name: text, dtype: object"
      ]
     },
     "execution_count": 21,
     "metadata": {},
     "output_type": "execute_result"
    }
   ],
   "source": [
    "df['text'].head(5)"
   ]
  },
  {
   "cell_type": "code",
   "execution_count": 22,
   "metadata": {},
   "outputs": [],
   "source": [
    "df['clean_text'] = df['text'].str.replace('[^\\w\\s]',' ')\n",
    "df['clean_title'] = df['title'].str.replace('[^\\w\\s]',' ')"
   ]
  },
  {
   "cell_type": "code",
   "execution_count": 23,
   "metadata": {},
   "outputs": [
    {
     "data": {
      "text/html": [
       "<div>\n",
       "<style scoped>\n",
       "    .dataframe tbody tr th:only-of-type {\n",
       "        vertical-align: middle;\n",
       "    }\n",
       "\n",
       "    .dataframe tbody tr th {\n",
       "        vertical-align: top;\n",
       "    }\n",
       "\n",
       "    .dataframe thead th {\n",
       "        text-align: right;\n",
       "    }\n",
       "</style>\n",
       "<table border=\"1\" class=\"dataframe\">\n",
       "  <thead>\n",
       "    <tr style=\"text-align: right;\">\n",
       "      <th></th>\n",
       "      <th>subreddit</th>\n",
       "      <th>subscribers</th>\n",
       "      <th>title</th>\n",
       "      <th>text</th>\n",
       "      <th>clean_text</th>\n",
       "      <th>clean_title</th>\n",
       "    </tr>\n",
       "  </thead>\n",
       "  <tbody>\n",
       "    <tr>\n",
       "      <th>0</th>\n",
       "      <td>AskReddit</td>\n",
       "      <td>26241971</td>\n",
       "      <td>People who haven't pooped in 2019 yet, why are...</td>\n",
       "      <td></td>\n",
       "      <td></td>\n",
       "      <td>People who haven t pooped in 2019 yet  why are...</td>\n",
       "    </tr>\n",
       "    <tr>\n",
       "      <th>1</th>\n",
       "      <td>AskReddit</td>\n",
       "      <td>26241971</td>\n",
       "      <td>Stan Lee has passed away at 95 years old</td>\n",
       "      <td>As many of you know today is day that many of ...</td>\n",
       "      <td>As many of you know today is day that many of ...</td>\n",
       "      <td>Stan Lee has passed away at 95 years old</td>\n",
       "    </tr>\n",
       "    <tr>\n",
       "      <th>2</th>\n",
       "      <td>Home</td>\n",
       "      <td>10022</td>\n",
       "      <td>Beautiful Home :)</td>\n",
       "      <td></td>\n",
       "      <td></td>\n",
       "      <td>Beautiful Home</td>\n",
       "    </tr>\n",
       "    <tr>\n",
       "      <th>3</th>\n",
       "      <td>Home</td>\n",
       "      <td>10022</td>\n",
       "      <td>My roommate is kicking me out because having a...</td>\n",
       "      <td>So, I am not asking for advice, really...mores...</td>\n",
       "      <td>So  I am not asking for advice  really   mores...</td>\n",
       "      <td>My roommate is kicking me out because having a...</td>\n",
       "    </tr>\n",
       "    <tr>\n",
       "      <th>4</th>\n",
       "      <td>videos</td>\n",
       "      <td>22077202</td>\n",
       "      <td>This is what happens when one company owns doz...</td>\n",
       "      <td></td>\n",
       "      <td></td>\n",
       "      <td>This is what happens when one company owns doz...</td>\n",
       "    </tr>\n",
       "    <tr>\n",
       "      <th>5</th>\n",
       "      <td>videos</td>\n",
       "      <td>22077202</td>\n",
       "      <td>Youtube is Facilitating the Sexual Exploitatio...</td>\n",
       "      <td></td>\n",
       "      <td></td>\n",
       "      <td>Youtube is Facilitating the Sexual Exploitatio...</td>\n",
       "    </tr>\n",
       "    <tr>\n",
       "      <th>6</th>\n",
       "      <td>news</td>\n",
       "      <td>19777808</td>\n",
       "      <td>Blizzard Employees Staged a Walkout After the ...</td>\n",
       "      <td></td>\n",
       "      <td></td>\n",
       "      <td>Blizzard Employees Staged a Walkout After the ...</td>\n",
       "    </tr>\n",
       "    <tr>\n",
       "      <th>7</th>\n",
       "      <td>news</td>\n",
       "      <td>19777808</td>\n",
       "      <td>Kobe Bryant killed in helicopter crash in Cali...</td>\n",
       "      <td></td>\n",
       "      <td></td>\n",
       "      <td>Kobe Bryant killed in helicopter crash in Cali...</td>\n",
       "    </tr>\n",
       "    <tr>\n",
       "      <th>8</th>\n",
       "      <td>worldnews</td>\n",
       "      <td>23055673</td>\n",
       "      <td>Trump Impeached for Abuse of Power</td>\n",
       "      <td></td>\n",
       "      <td></td>\n",
       "      <td>Trump Impeached for Abuse of Power</td>\n",
       "    </tr>\n",
       "    <tr>\n",
       "      <th>9</th>\n",
       "      <td>worldnews</td>\n",
       "      <td>23055673</td>\n",
       "      <td>Two weeks before his inauguration, Donald J. T...</td>\n",
       "      <td></td>\n",
       "      <td></td>\n",
       "      <td>Two weeks before his inauguration  Donald J  T...</td>\n",
       "    </tr>\n",
       "  </tbody>\n",
       "</table>\n",
       "</div>"
      ],
      "text/plain": [
       "   subreddit  subscribers                                              title  \\\n",
       "0  AskReddit     26241971  People who haven't pooped in 2019 yet, why are...   \n",
       "1  AskReddit     26241971           Stan Lee has passed away at 95 years old   \n",
       "2       Home        10022                                  Beautiful Home :)   \n",
       "3       Home        10022  My roommate is kicking me out because having a...   \n",
       "4     videos     22077202  This is what happens when one company owns doz...   \n",
       "5     videos     22077202  Youtube is Facilitating the Sexual Exploitatio...   \n",
       "6       news     19777808  Blizzard Employees Staged a Walkout After the ...   \n",
       "7       news     19777808  Kobe Bryant killed in helicopter crash in Cali...   \n",
       "8  worldnews     23055673                 Trump Impeached for Abuse of Power   \n",
       "9  worldnews     23055673  Two weeks before his inauguration, Donald J. T...   \n",
       "\n",
       "                                                text  \\\n",
       "0                                                      \n",
       "1  As many of you know today is day that many of ...   \n",
       "2                                                      \n",
       "3  So, I am not asking for advice, really...mores...   \n",
       "4                                                      \n",
       "5                                                      \n",
       "6                                                      \n",
       "7                                                      \n",
       "8                                                      \n",
       "9                                                      \n",
       "\n",
       "                                          clean_text  \\\n",
       "0                                                      \n",
       "1  As many of you know today is day that many of ...   \n",
       "2                                                      \n",
       "3  So  I am not asking for advice  really   mores...   \n",
       "4                                                      \n",
       "5                                                      \n",
       "6                                                      \n",
       "7                                                      \n",
       "8                                                      \n",
       "9                                                      \n",
       "\n",
       "                                         clean_title  \n",
       "0  People who haven t pooped in 2019 yet  why are...  \n",
       "1           Stan Lee has passed away at 95 years old  \n",
       "2                                  Beautiful Home     \n",
       "3  My roommate is kicking me out because having a...  \n",
       "4  This is what happens when one company owns doz...  \n",
       "5  Youtube is Facilitating the Sexual Exploitatio...  \n",
       "6  Blizzard Employees Staged a Walkout After the ...  \n",
       "7  Kobe Bryant killed in helicopter crash in Cali...  \n",
       "8                 Trump Impeached for Abuse of Power  \n",
       "9  Two weeks before his inauguration  Donald J  T...  "
      ]
     },
     "execution_count": 23,
     "metadata": {},
     "output_type": "execute_result"
    }
   ],
   "source": [
    "df.head(10)"
   ]
  },
  {
   "cell_type": "code",
   "execution_count": 24,
   "metadata": {},
   "outputs": [],
   "source": [
    "# We set our features as description, and target as subreddit.  \n",
    "# Create a mass text.\n",
    "\n",
    "features = ['clean_text', 'clean_title', 'subscribers'] \n",
    "target = 'subreddit'\n",
    "\n",
    "X = df[features]\n",
    "y = df[[target]]"
   ]
  },
  {
   "cell_type": "code",
   "execution_count": 25,
   "metadata": {},
   "outputs": [],
   "source": [
    "#Create the nlp object\n",
    "nlp = spacy.load(\"en_core_web_md\")\n",
    "\n",
    "# create tokenizer object\n",
    "tokenizer = Tokenizer(nlp.vocab)"
   ]
  },
  {
   "cell_type": "code",
   "execution_count": 26,
   "metadata": {},
   "outputs": [],
   "source": [
    "def tokenize(doc):\n",
    "        \"\"\"Return the tokens\"\"\"\n",
    "        return [token.text for token in tokenizer(doc)]"
   ]
  },
  {
   "cell_type": "code",
   "execution_count": 27,
   "metadata": {},
   "outputs": [],
   "source": [
    "def get_lemmas(text):\n",
    "        \"\"\"Return the Lemmas\"\"\"\n",
    "        lemmas = []\n",
    "        doc = nlp(text)\n",
    "    \n",
    "        for token in doc: \n",
    "            if ((token.is_stop == False) and (token.is_punct == False)) and (token.pos_ != 'PRON'):\n",
    "                lemmas.append(token.lemma_)\n",
    "    \n",
    "        return lemmas"
   ]
  },
  {
   "cell_type": "code",
   "execution_count": null,
   "metadata": {},
   "outputs": [],
   "source": [
    "text = df[\"clean_text\"]\n",
    "\n",
    "# Instantiate vectorizer object\n",
    "tfidf = TfidfVectorizer(tokenizer=get_lemmas, min_df=0.025, max_df=.98, ngram_range=(1,2))\n",
    "#tfidf = TfidfVectorizer(stop_words=\"english\")\n",
    "# Create a vocabulary and get word counts per document\n",
    "dtm = tfidf.fit_transform(text) # Similiar to fit_predict\n",
    "\n",
    "# Get feature names to use as dataframe column headers\n",
    "dtm = pd.DataFrame(dtm.todense(), columns=tfidf.get_feature_names())"
   ]
  },
  {
   "cell_type": "code",
   "execution_count": 29,
   "metadata": {},
   "outputs": [
    {
     "data": {
      "text/plain": [
       "NearestNeighbors(algorithm='ball_tree', leaf_size=30, metric='minkowski',\n",
       "         metric_params=None, n_jobs=None, n_neighbors=5, p=2, radius=1.0)"
      ]
     },
     "execution_count": 29,
     "metadata": {},
     "output_type": "execute_result"
    }
   ],
   "source": [
    "# Fit on TF-IDF Vectors\n",
    "size = 5\n",
    "model  = NearestNeighbors(n_neighbors=size, algorithm='ball_tree')\n",
    "model.fit(dtm)"
   ]
  },
  {
   "cell_type": "code",
   "execution_count": 30,
   "metadata": {},
   "outputs": [],
   "source": [
    "user_input = [\"\"\"Capes are not a great idea of you are a super hero trying to save the world.\"\"\"]\n",
    "\n",
    "vec_user_input = tfidf.transform(user_input)\n",
    "dist, subreddit_index = model.kneighbors(vec_user_input.todense())"
   ]
  },
  {
   "cell_type": "code",
   "execution_count": 31,
   "metadata": {},
   "outputs": [
    {
     "name": "stdout",
     "output_type": "stream",
     "text": [
      "           subreddit                                              title text  \\\n",
      "1993         nursing  Nurses strike in Seattle this week for safe st...        \n",
      "1985         MrRobot            ‘Mr. Robot’ Renewed for Season 4 at USA        \n",
      "1996            USPS                   “Left with authorized recipient”        \n",
      "1992         nursing    Cross-post, but thought this’d fit in here, too        \n",
      "1775  girlsfrontline                          Lord Tachanka and his gun        \n",
      "\n",
      "      subscribers  \n",
      "1993       125686  \n",
      "1985       186310  \n",
      "1996        28383  \n",
      "1992       125686  \n",
      "1775        57347  \n"
     ]
    }
   ],
   "source": [
    "recommended_reddits = [df[['subreddit','title','text','subscribers']].iloc[n] for n in subreddit_index]\n",
    "\n",
    "print(*recommended_reddits, sep = \"\\n\")"
   ]
  },
  {
   "cell_type": "code",
   "execution_count": null,
   "metadata": {},
   "outputs": [],
   "source": [
    "#do pickling here\n",
    "# save the model to disk\n",
    "filename = 'test_model.sav'\n",
    "pickle.dump(model, open(filename, 'wb'))\n",
    " \n",
    "# some time later...\n",
    " \n",
    "# # load the model from disk\n",
    "# loaded_model = pickle.load(open(filename, 'rb'))\n",
    "# result = loaded_model.score(X_test, Y_test)\n",
    "# print(result)"
   ]
  }
 ],
 "metadata": {
  "kernelspec": {
   "display_name": "Python 3",
   "language": "python",
   "name": "python3"
  },
  "language_info": {
   "codemirror_mode": {
    "name": "ipython",
    "version": 3
   },
   "file_extension": ".py",
   "mimetype": "text/x-python",
   "name": "python",
   "nbconvert_exporter": "python",
   "pygments_lexer": "ipython3",
   "version": "3.7.4"
  }
 },
 "nbformat": 4,
 "nbformat_minor": 4
}
